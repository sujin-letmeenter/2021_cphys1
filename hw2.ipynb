{
 "cells": [
  {
   "cell_type": "code",
   "execution_count": 1,
   "metadata": {},
   "outputs": [
    {
     "name": "stdout",
     "output_type": "stream",
     "text": [
      "1.125\n",
      "-0.6328125\n",
      "-4.649688720703125\n",
      "-118.21182264061645\n",
      "-63415.11075595729\n",
      "-18096928592.854885\n",
      "-1.4737447103084353e+21\n",
      "-9.773655620229423e+42\n",
      "-4.298595488227898e+86\n",
      "-8.315065427135959e+173\n",
      "-inf\n",
      "-inf\n",
      "-inf\n",
      "-inf\n",
      "-inf\n",
      "-inf\n",
      "-inf\n",
      "-inf\n",
      "-inf\n",
      "-inf\n"
     ]
    }
   ],
   "source": [
    "def f(x):\n",
    "    f=r*f*(1-f)\n",
    "    return f\n",
    "\n",
    "r,f=4.5,0.5\n",
    "\n",
    "for i in range(1,21,1):\n",
    "    f=r*f*(1-f)\n",
    "    print(f)"
   ]
  },
  {
   "cell_type": "code",
   "execution_count": 2,
   "metadata": {},
   "outputs": [
    {
     "name": "stdout",
     "output_type": "stream",
     "text": [
      "1.12455\n",
      "-0.6302821612499996\n",
      "-4.623919938179865\n",
      "-117.0204998979472\n",
      "-62148.68053318534\n",
      "-17381342883.134087\n",
      "-1.359499861973058e+21\n",
      "-8.317079436171436e+42\n",
      "-3.11282146564136e+86\n",
      "-4.360345864630932e+173\n",
      "-inf\n",
      "-inf\n",
      "-inf\n",
      "-inf\n",
      "-inf\n",
      "-inf\n",
      "-inf\n",
      "-inf\n",
      "-inf\n",
      "-inf\n"
     ]
    }
   ],
   "source": [
    "def f(x):\n",
    "    f=r*f*(1-f)\n",
    "    return f\n",
    "\n",
    "r,f=4.5,0.51\n",
    "\n",
    "for i in range(1,21,1):\n",
    "    f=r*f*(1-f)\n",
    "    print(f)"
   ]
  },
  {
   "cell_type": "code",
   "execution_count": 3,
   "metadata": {},
   "outputs": [
    {
     "name": "stdout",
     "output_type": "stream",
     "text": [
      "1.1249955\n",
      "-0.6327871875911253\n",
      "-4.649430655667751\n",
      "-118.19986234888862\n",
      "-63402.33294740298\n",
      "-18089636514.7783\n",
      "-1.4725572716470052e+21\n",
      "-9.757912132262123e+42\n",
      "-4.2847582131426745e+86\n",
      "-8.261618825292122e+173\n",
      "-inf\n",
      "-inf\n",
      "-inf\n",
      "-inf\n",
      "-inf\n",
      "-inf\n",
      "-inf\n",
      "-inf\n",
      "-inf\n",
      "-inf\n"
     ]
    }
   ],
   "source": [
    "def f(x):\n",
    "    f=r*f*(1-f)\n",
    "    return f\n",
    "\n",
    "r,f=4.5,0.501\n",
    "\n",
    "for i in range(1,21,1):\n",
    "    f=r*f*(1-f)\n",
    "    print(f)"
   ]
  },
  {
   "cell_type": "code",
   "execution_count": 4,
   "metadata": {},
   "outputs": [
    {
     "name": "stdout",
     "output_type": "stream",
     "text": [
      "숫자를 입력하세요.8\n",
      "21\n"
     ]
    }
   ],
   "source": [
    "def fibo (n):\n",
    "    fibo(n-1)+fibo(n-2)\n",
    "    \n",
    "n=int(input(\"숫자를 입력하세요.\"))\n",
    "f1,f2=1,1\n",
    "\n",
    "if n<=2:\n",
    "    print(1)\n",
    "else:\n",
    "    for i in range(1,n):\n",
    "        f1,f2=f2,f1+f2\n",
    "    print(f1)"
   ]
  },
  {
   "cell_type": "code",
   "execution_count": null,
   "metadata": {},
   "outputs": [],
   "source": []
  }
 ],
 "metadata": {
  "kernelspec": {
   "display_name": "Python 3",
   "language": "python",
   "name": "python3"
  },
  "language_info": {
   "codemirror_mode": {
    "name": "ipython",
    "version": 3
   },
   "file_extension": ".py",
   "mimetype": "text/x-python",
   "name": "python",
   "nbconvert_exporter": "python",
   "pygments_lexer": "ipython3",
   "version": "3.8.5"
  }
 },
 "nbformat": 4,
 "nbformat_minor": 4
}
