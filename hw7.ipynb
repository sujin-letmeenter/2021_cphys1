{
 "cells": [
  {
   "cell_type": "code",
   "execution_count": 30,
   "metadata": {},
   "outputs": [
    {
     "data": {
      "text/plain": [
       "((array([ 1., -1.]),\n",
       "  array([[1., 0.],\n",
       "         [0., 1.]])),\n",
       " (array([ 1., -1.]),\n",
       "  array([[ 0.70710678, -0.70710678],\n",
       "         [ 0.70710678,  0.70710678]])),\n",
       " (array([ 1., -1.]),\n",
       "  array([[1., 0.],\n",
       "         [0., 1.]])))"
      ]
     },
     "execution_count": 30,
     "metadata": {},
     "output_type": "execute_result"
    }
   ],
   "source": [
    "%matplotlib inline\n",
    "import matplotlib.pyplot as plt\n",
    "import numpy as np\n",
    "\n",
    "j=1j\n",
    "\n",
    "sx=np.array([[0,1],[1,0]])\n",
    "ex=np.linalg.eig(sx) \n",
    "\n",
    "sy=np.array([[0,-j],[j,0]])\n",
    "ey=np.linalg.eigh(sy) \n",
    "\n",
    "sz=np.array([[1,0],[0,-1]])\n",
    "ez=np.linalg.eig(sz)\n",
    "\n",
    "ez,ex,ez"
   ]
  },
  {
   "cell_type": "markdown",
   "metadata": {},
   "source": [
    "sx의 아이겐벡터는 $v_1$=$(\\begin {matrix} 1 \\\\\\ 0 \\end{matrix})$, $v_2$=(0,1)이며 아이겐밸류는 (1,-1)이다.\n",
    "                     \n",
    "sy의 아이겐벡터는 $v_1$=$(\\begin {matrix} 0.70710678 \\\\\\ 0.70710678 \\end{matrix})$ = $(\\begin {matrix} 1 \\\\\\ 1 \\end{matrix})$, $v_2$=(-0.70710678,0.7071678)=(-1,1)이며 아이겐밸류는 (1,-1)이다.\n",
    "                     \n",
    "sz의 아이겐벡터는 $v_1$=$(\\begin {matrix} 1 \\\\\\ 0 \\end{matrix})$, $v_2$=(0,1)이며 아이겐밸류는 (1,-1)이다.\n",
    "                      "
   ]
  },
  {
   "cell_type": "markdown",
   "metadata": {},
   "source": [
    "### $\\frac{k}{mw^2}$$(\\begin {matrix} 2 & -1 \\\\\\ -1 &   2 \\end{matrix})$ $(\\begin {matrix} x_1 \\\\\\ y_1 \\end{matrix})$ = $\\lambda$ $(\\begin {matrix} x_1 \\\\\\ y_1 \\end{matrix})$\n",
    "위의 식에서 vector$(\\begin {matrix} x_1 \\\\\\ y_1 \\end{matrix})$이 같기 때문에  $\\lambda$=$\\frac{k}{mw^2}$$(\\begin {matrix} 2 & -1 \\\\\\ -1 & 2 \\end{matrix})$라고 할 수 있다.  \n",
    "이를 통해 $\\lambda$를 구해보면 다음과 같다."
   ]
  },
  {
   "cell_type": "code",
   "execution_count": 31,
   "metadata": {},
   "outputs": [
    {
     "data": {
      "text/plain": [
       "(array([3., 1.]),\n",
       " array([[ 0.70710678,  0.70710678],\n",
       "        [-0.70710678,  0.70710678]]))"
      ]
     },
     "execution_count": 31,
     "metadata": {},
     "output_type": "execute_result"
    }
   ],
   "source": [
    "m,k=1,1\n",
    "w=np.sqrt(k/m)\n",
    "\n",
    "a=k/(m*(w**2))\n",
    "\n",
    "ld=a*np.array([[2,-1],[-1,2]])\n",
    "ed=np.linalg.eig(ld)\n",
    "\n",
    "ed"
   ]
  },
  {
   "cell_type": "markdown",
   "metadata": {},
   "source": [
    "ed의 아이겐벡터는 $v_1$=$(\\begin {matrix} 0.70710678 \\\\\\ -0.70710678 \\end{matrix})$ = $(\\begin {matrix} 1 \\\\\\ -1 \\end{matrix})$, $v_2$=(0.70710678, 0.70710678) = (1,1)이며 아이겐밸류는 (3,1)이다.\n",
    "\n",
    "구한 아이겐밸류를 각각의 람다 값에 대입하면  \n",
    "$\\lambda$=1일 경우, $w^2$=$\\frac{k}{m}$이므로 $w_1$=$\\sqrt \\frac{k}{m}$가 되며, -$kx_1$=-2$kx_1$+$kx_2$, \n",
    "$kx_1$=$kx_2$, $x_1$=$x_2$가 된다.   \n",
    "$\\lambda$=3일 경우, $3w^2$= $\\frac {k}{m}$이므로 $w_2$=$\\sqrt \\frac{3k}{m}$가 되며, -3$kx_2$=k$x_1$-2$kx_2$,  \n",
    "$kx_2$=-$kx_1$ $x_2$=-$x_1$이 된다.  \n",
    "   따라서 $(\\begin {matrix} 1 & -1 \\\\\\ 1 &   1 \\end{matrix})$을 구할 수 있다.\n",
    "\n",
    "여기서 구한 eigen vector은 operation에 대해서 계산해줄 때 제일 편하게 기준이 되는 축을 잡아주는 것이다. 따라서 eigen vector은 어떠한 변화를 하던지간에 축에 대해서 M이라고 하는 operation에 의한 변환은 모든 변환들이 축에 대해서 상수배만큼 곱해주는 것으로 바뀌어 모든 값들을 나타낼 수 있다.\n",
    "\n",
    "그리고 원래의 vector에 대해서 몇 배가 되는지를 나타내주는 것이 eigen value이다."
   ]
  },
  {
   "cell_type": "code",
   "execution_count": null,
   "metadata": {},
   "outputs": [],
   "source": []
  }
 ],
 "metadata": {
  "kernelspec": {
   "display_name": "Python 3",
   "language": "python",
   "name": "python3"
  },
  "language_info": {
   "codemirror_mode": {
    "name": "ipython",
    "version": 3
   },
   "file_extension": ".py",
   "mimetype": "text/x-python",
   "name": "python",
   "nbconvert_exporter": "python",
   "pygments_lexer": "ipython3",
   "version": "3.8.5"
  }
 },
 "nbformat": 4,
 "nbformat_minor": 4
}
