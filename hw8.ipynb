{
 "cells": [
  {
   "cell_type": "markdown",
   "metadata": {},
   "source": [
    "### 1. Hypersphere"
   ]
  },
  {
   "cell_type": "markdown",
   "metadata": {},
   "source": [
    "2차원"
   ]
  },
  {
   "cell_type": "code",
   "execution_count": 9,
   "metadata": {},
   "outputs": [],
   "source": [
    "import random\n",
    "import numpy as np\n",
    "\n",
    "def s_circle(n):\n",
    "    count=0\n",
    "    for i in range(n):\n",
    "        x,y=random.random(), random.random()\n",
    "        if x*x+y*y<1:\n",
    "            count+=1\n",
    "    return 4*count/n"
   ]
  },
  {
   "cell_type": "code",
   "execution_count": 10,
   "metadata": {},
   "outputs": [
    {
     "data": {
      "text/plain": [
       "3.14756"
      ]
     },
     "execution_count": 10,
     "metadata": {},
     "output_type": "execute_result"
    }
   ],
   "source": [
    "s_circle(100000)"
   ]
  },
  {
   "cell_type": "markdown",
   "metadata": {},
   "source": [
    "3차원"
   ]
  },
  {
   "cell_type": "code",
   "execution_count": 11,
   "metadata": {},
   "outputs": [],
   "source": [
    "import random\n",
    "import numpy as np\n",
    "\n",
    "def s_circle(n):\n",
    "    count=0\n",
    "    for i in range(n):\n",
    "        x,y,z=random.random(), random.random(), random.random()\n",
    "        if x*x+y*y+z*z<1:\n",
    "            count+=1\n",
    "    return 8*count/n"
   ]
  },
  {
   "cell_type": "code",
   "execution_count": 12,
   "metadata": {},
   "outputs": [
    {
     "data": {
      "text/plain": [
       "4.20136"
      ]
     },
     "execution_count": 12,
     "metadata": {},
     "output_type": "execute_result"
    }
   ],
   "source": [
    "s_circle(100000)"
   ]
  },
  {
   "cell_type": "markdown",
   "metadata": {},
   "source": [
    "4차원"
   ]
  },
  {
   "cell_type": "code",
   "execution_count": 13,
   "metadata": {},
   "outputs": [],
   "source": [
    "import random\n",
    "import numpy as np\n",
    "\n",
    "def s_circle(n):\n",
    "    count=0\n",
    "    for i in range(n):\n",
    "        x,y,z,a=random.random(), random.random(), random.random(), random.random()\n",
    "        if x*x+y*y+z*z+a*a<1:\n",
    "            count+=1\n",
    "    return 16*count/n"
   ]
  },
  {
   "cell_type": "code",
   "execution_count": 14,
   "metadata": {},
   "outputs": [
    {
     "data": {
      "text/plain": [
       "4.93184"
      ]
     },
     "execution_count": 14,
     "metadata": {},
     "output_type": "execute_result"
    }
   ],
   "source": [
    "s_circle(100000)"
   ]
  },
  {
   "cell_type": "markdown",
   "metadata": {},
   "source": [
    "5차원"
   ]
  },
  {
   "cell_type": "code",
   "execution_count": 15,
   "metadata": {},
   "outputs": [],
   "source": [
    "import random\n",
    "import numpy as np\n",
    "\n",
    "def s_circle(n):\n",
    "    count=0\n",
    "    for i in range(n):\n",
    "        x,y,z,a,b=random.random(), random.random(), random.random(), random.random(), random.random()\n",
    "        if x*x+y*y+z*z+a*a+b*b<1:\n",
    "            count+=1\n",
    "    return 32*count/n"
   ]
  },
  {
   "cell_type": "code",
   "execution_count": 16,
   "metadata": {},
   "outputs": [
    {
     "data": {
      "text/plain": [
       "5.30464"
      ]
     },
     "execution_count": 16,
     "metadata": {},
     "output_type": "execute_result"
    }
   ],
   "source": [
    "s_circle(100000)"
   ]
  },
  {
   "cell_type": "markdown",
   "metadata": {},
   "source": [
    "### 2. particle in a box"
   ]
  },
  {
   "cell_type": "code",
   "execution_count": 110,
   "metadata": {},
   "outputs": [],
   "source": [
    "import random\n",
    "import numpy as np\n",
    "import matplotlib.pyplot as plt \n",
    "\n",
    "def aveE1(b,n):\n",
    "    states = np.ones(n)\n",
    "    for t in range(n*n):\n",
    "        i=random.randint(0,n-1)\n",
    "        DE = -2*states[i]+1\n",
    "        if DE<0:\n",
    "            states[i]=-1*states[i]\n",
    "        elif random.random()<np.exp(-b*DE):\n",
    "            states[i]=-1*states[i]\n",
    "    return sum(states)\n",
    "\n",
    "def aveE2(c,n):\n",
    "    states = np.ones(n)\n",
    "    for t in range(n*n):\n",
    "        i=random.randint(0,n-1)\n",
    "        DE = -2*states[i]+1\n",
    "        if DE<0:\n",
    "            states[i]=-1*states[i]\n",
    "        elif random.random()<np.exp(-c*DE):\n",
    "            states[i]=-1*states[i]\n",
    "    return sum(states)\n",
    "\n",
    "def aveE3(d,n):\n",
    "    states = np.ones(n)\n",
    "    for t in range(n*n):\n",
    "        i=random.randint(0,n-1)\n",
    "        DE = -2*states[i]+1\n",
    "        if DE<0:\n",
    "            states[i]=-1*states[i] \n",
    "        elif random.random()<np.exp(-d*DE):\n",
    "            states[i]=-1*states[i]\n",
    "    return sum(states)"
   ]
  },
  {
   "cell_type": "code",
   "execution_count": 111,
   "metadata": {},
   "outputs": [],
   "source": [
    "temp=np.arange(1,20,2)\n",
    "y1=[aveE1(1/t,1000) for t in temp]\n",
    "y2=[aveE2(1/t,1000) for t in temp]\n",
    "y3=[aveE3(1/t,1000) for t in temp]"
   ]
  },
  {
   "cell_type": "code",
   "execution_count": 112,
   "metadata": {},
   "outputs": [
    {
     "data": {
      "image/png": "[encoded data removed]",
      "text/plain": [
       "<Figure size 432x288 with 1 Axes>"
      ]
     },
     "metadata": {
      "needs_background": "light"
     },
     "output_type": "display_data"
    }
   ],
   "source": [
    "b=np.arange(1/20,1,0.1)\n",
    "th1=-1000*np.tanh(1/temp)\n",
    "\n",
    "plt.xlabel('temperature')\n",
    "plt.ylabel('<E>')\n",
    "plt.plot(temp,y1,'o',color='red')\n",
    "plt.plot(temp,th1);\n",
    "\n",
    "c=np.arange(1/50,1/20,0.1)\n",
    "th2=-1000*np.tanh(1/temp)\n",
    "\n",
    "plt.xlabel('temperature')\n",
    "plt.ylabel('<E>')\n",
    "plt.plot(temp,y2,'o',color='blue')\n",
    "plt.plot(temp,th2);\n",
    "\n",
    "d=np.arange(1/80,1/50,0.1)\n",
    "th3=-1000*np.tanh(1/temp)\n",
    "\n",
    "plt.xlabel('temperature')\n",
    "plt.ylabel('<E>')\n",
    "plt.plot(temp,y3,'o',color='black')\n",
    "plt.plot(temp,th3);"
   ]
  },
  {
   "cell_type": "code",
   "execution_count": null,
   "metadata": {},
   "outputs": [],
   "source": []
  }
 ],
 "metadata": {
  "kernelspec": {
   "display_name": "Python 3",
   "language": "python",
   "name": "python3"
  },
  "language_info": {
   "codemirror_mode": {
    "name": "ipython",
    "version": 3
   },
   "file_extension": ".py",
   "mimetype": "text/x-python",
   "name": "python",
   "nbconvert_exporter": "python",
   "pygments_lexer": "ipython3",
   "version": "3.8.5"
  }
 },
 "nbformat": 4,
 "nbformat_minor": 4
}
